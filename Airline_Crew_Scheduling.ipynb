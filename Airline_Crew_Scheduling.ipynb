from docplex.mp.model import Model

# Create a model
model = Model(name="Airline Crew Scheduling")

# Define variables for the number of pilots and flight attendants per flight
P_A = model.continuous_var(name="Pilot_Flight_A")
P_B = model.continuous_var(name="Pilot_Flight_B")
P_C = model.continuous_var(name="Pilot_Flight_C")

F_A = model.continuous_var(name="Attendant_Flight_A")
F_B = model.continuous_var(name="Attendant_Flight_B")
F_C = model.continuous_var(name="Attendant_Flight_C")

# Objective: Minimize total cost (sum of wages for pilots and flight attendants)
model.minimize(300 * P_A + 300 * P_B + 300 * P_C + 150 * F_A + 150 * F_B + 150 * F_C)

# Constraints:
# 1. Crew requirements for each flight
model.add_constraint(P_A == 1, "Pilot_Requirement_A")
model.add_constraint(F_A == 2, "Attendant_Requirement_A")
model.add_constraint(P_B == 1, "Pilot_Requirement_B")
model.add_constraint(F_B == 3, "Attendant_Requirement_B")
model.add_constraint(P_C == 1, "Pilot_Requirement_C")
model.add_constraint(F_C == 2, "Attendant_Requirement_C")

# 2. Work hours constraints
model.add_constraint(P_A + P_B + P_C <= 8, "Pilot_Work_Hours")
model.add_constraint(F_A + F_B + F_C <= 8, "Attendant_Work_Hours")

# Solve the model
solution = model.solve()

# Display the solution
if solution:
    print("Optimal Solution Found!")
    print(f"Pilots for Flight A: {solution[P_A]}")
    print(f"Pilots for Flight B: {solution[P_B]}")
    print(f"Pilots for Flight C: {solution[P_C]}")
    print(f"Attendants for Flight A: {solution[F_A]}")
    print(f"Attendants for Flight B: {solution[F_B]}")
    print(f"Attendants for Flight C: {solution[F_C]}")
    print(f"Total Cost: ${solution.objective_value:.2f}")
else:
    print("No optimal solution found")
