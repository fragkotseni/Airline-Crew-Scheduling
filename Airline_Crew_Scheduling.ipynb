{
  "nbformat": 4,
  "nbformat_minor": 0,
  "metadata": {
    "colab": {
      "provenance": []
    },
    "kernelspec": {
      "name": "python3",
      "display_name": "Python 3"
    },
    "language_info": {
      "name": "python"
    }
  },
  "cells": [
    {
      "cell_type": "code",
      "source": [
        "!pip install cplex\n",
        "!pip install docplex\n",
        "from docplex.mp.model import Model"
      ],
      "metadata": {
        "colab": {
          "base_uri": "https://localhost:8080/"
        },
        "id": "kjiBBgY6PWuq",
        "outputId": "acaa63d6-9a6c-4419-d014-3332043e1a50"
      },
      "execution_count": 50,
      "outputs": [
        {
          "output_type": "stream",
          "name": "stdout",
          "text": [
            "Requirement already satisfied: cplex in /usr/local/lib/python3.11/dist-packages (22.1.2.0)\n",
            "Requirement already satisfied: docplex in /usr/local/lib/python3.11/dist-packages (2.29.241)\n",
            "Requirement already satisfied: six in /usr/local/lib/python3.11/dist-packages (from docplex) (1.17.0)\n"
          ]
        }
      ]
    },
    {
      "cell_type": "code",
      "source": [
        "# Create the optimization model\n",
        "model = Model(name=\"Airline Crew Scheduling\")"
      ],
      "metadata": {
        "id": "hFZzOscCPZao"
      },
      "execution_count": 51,
      "outputs": []
    },
    {
      "cell_type": "code",
      "source": [
        "# Define variables for number of pilots and attendants assigned to each flight\n",
        "P_A = model.binary_var(name=\"Pilot_Flight_A\")  # Pilot for Flight A\n",
        "F_A = model.binary_var(name=\"Attendant_Flight_A\")  # Attendant for Flight A\n",
        "\n",
        "P_B = model.binary_var(name=\"Pilot_Flight_B\")  # Pilot for Flight B\n",
        "F_B = model.binary_var(name=\"Attendant_Flight_B\")  # Attendant for Flight B\n",
        "\n",
        "P_C = model.binary_var(name=\"Pilot_Flight_C\")  # Pilot for Flight C\n",
        "F_C = model.binary_var(name=\"Attendant_Flight_C\")  # Attendant for Flight C\n"
      ],
      "metadata": {
        "id": "KoRbVoGHPeRG"
      },
      "execution_count": 52,
      "outputs": []
    },
    {
      "cell_type": "code",
      "source": [
        "# Constraints\n",
        "# Crew requirements for each flight\n",
        "model.add_constraint(P_A == 1, \"Pilot_Requirement_A\")  # Flight A needs one pilot\n",
        "model.add_constraint(F_A == 2, \"Attendant_Requirement_A\")  # Flight A needs two attendants\n",
        "\n",
        "model.add_constraint(P_B == 1, \"Pilot_Requirement_B\")  # Flight B needs one pilot\n",
        "model.add_constraint(F_B == 2, \"Attendant_Requirement_B\")  # Flight B needs two attendants\n",
        "\n",
        "model.add_constraint(P_C == 1, \"Pilot_Requirement_C\")  # Flight C needs one pilot\n",
        "model.add_constraint(F_C == 2, \"Attendant_Requirement_C\")  # Flight C needs two attendants"
      ],
      "metadata": {
        "colab": {
          "base_uri": "https://localhost:8080/"
        },
        "id": "ig6ehLEjPgtC",
        "outputId": "d997a689-0e10-4515-e9a7-ea7b90da2eab"
      },
      "execution_count": 53,
      "outputs": [
        {
          "output_type": "execute_result",
          "data": {
            "text/plain": [
              "docplex.mp.LinearConstraint[Attendant_Requirement_C](Attendant_Flight_C,EQ,2)"
            ]
          },
          "metadata": {},
          "execution_count": 53
        }
      ]
    },
    {
      "cell_type": "code",
      "source": [
        "# Crew availability constraints (each crew member can only be assigned to one flight)\n",
        "model.add_constraint(P_A + P_B + P_C <= 1, \"Pilot_Availability\")\n",
        "model.add_constraint(F_A + F_B + F_C <= 1, \"Attendant_Availability\")\n"
      ],
      "metadata": {
        "colab": {
          "base_uri": "https://localhost:8080/"
        },
        "id": "9FFyTlh9PjjV",
        "outputId": "2ef377d4-84f5-4ae1-9685-2463031b8100"
      },
      "execution_count": 54,
      "outputs": [
        {
          "output_type": "execute_result",
          "data": {
            "text/plain": [
              "docplex.mp.LinearConstraint[Attendant_Availability](Attendant_Flight_A+Attendant_Flight_B+Attendant_Flight_C,LE,1)"
            ]
          },
          "metadata": {},
          "execution_count": 54
        }
      ]
    },
    {
      "cell_type": "code",
      "source": [
        "# Objective function: Minimize the cost of crew assignments\n",
        "# (e.g., minimize total number of crew members assigned to the flights)\n",
        "model.minimize(P_A + F_A + P_B + F_B + P_C + F_C)"
      ],
      "metadata": {
        "id": "mW0UH0kCPly9"
      },
      "execution_count": 55,
      "outputs": []
    },
    {
      "cell_type": "code",
      "source": [
        "# Print the model information\n",
        "model.print_information()\n"
      ],
      "metadata": {
        "colab": {
          "base_uri": "https://localhost:8080/"
        },
        "id": "XuZtXvTjPoJk",
        "outputId": "c38f78b8-0b85-4092-bf3c-61cb5ca5652f"
      },
      "execution_count": 56,
      "outputs": [
        {
          "output_type": "stream",
          "name": "stdout",
          "text": [
            "Model: Airline Crew Scheduling\n",
            " - number of variables: 6\n",
            "   - binary=6, integer=0, continuous=0\n",
            " - number of constraints: 8\n",
            "   - linear=8\n",
            " - parameters: defaults\n",
            " - objective: minimize\n"
          ]
        }
      ]
    },
    {
      "cell_type": "code",
      "source": [
        "# Solve the model using the CPLEX solver\n",
        "solution = model.solve()\n",
        ""
      ],
      "metadata": {
        "id": "S-HzDmTIQ9t5"
      },
      "execution_count": null,
      "outputs": []
    }
  ]
}